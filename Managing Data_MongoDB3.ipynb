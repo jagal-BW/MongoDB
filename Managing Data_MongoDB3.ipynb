{
 "cells": [
  {
   "cell_type": "code",
   "execution_count": 41,
   "metadata": {},
   "outputs": [
    {
     "name": "stdout",
     "output_type": "stream",
     "text": [
      "Requirement already satisfied: pymongo==3.4.0 in /Users/batman/opt/anaconda3/lib/python3.7/site-packages (3.4.0)\n",
      "Note: you may need to restart the kernel to use updated packages.\n"
     ]
    }
   ],
   "source": [
    "pip install pymongo==3.4.0"
   ]
  },
  {
   "cell_type": "code",
   "execution_count": 42,
   "metadata": {},
   "outputs": [],
   "source": [
    "from pymongo import MongoClient"
   ]
  },
  {
   "cell_type": "code",
   "execution_count": 43,
   "metadata": {},
   "outputs": [],
   "source": [
    "client = MongoClient(host=\"mongodb://192.168.99.100:27017\")"
   ]
  },
  {
   "cell_type": "code",
   "execution_count": 44,
   "metadata": {},
   "outputs": [],
   "source": [
    "import pymongo"
   ]
  },
  {
   "cell_type": "code",
   "execution_count": 45,
   "metadata": {},
   "outputs": [],
   "source": [
    "client = pymongo.MongoClient()"
   ]
  },
  {
   "cell_type": "code",
   "execution_count": 46,
   "metadata": {},
   "outputs": [],
   "source": [
    "database = client.get_database(\"Columbia_library\")"
   ]
  },
  {
   "cell_type": "code",
   "execution_count": 47,
   "metadata": {},
   "outputs": [],
   "source": [
    "users_collection = database.get_collection(\"users\")"
   ]
  },
  {
   "cell_type": "code",
   "execution_count": 48,
   "metadata": {},
   "outputs": [
    {
     "data": {
      "text/plain": [
       "[ObjectId('5ea7bc7ea753978fd5e5f092'),\n",
       " ObjectId('5ea7bc7ea753978fd5e5f093'),\n",
       " ObjectId('5ea7bc7ea753978fd5e5f094'),\n",
       " ObjectId('5ea7bc7ea753978fd5e5f095'),\n",
       " ObjectId('5ea7bc7ea753978fd5e5f096')]"
      ]
     },
     "execution_count": 48,
     "metadata": {},
     "output_type": "execute_result"
    }
   ],
   "source": [
    "users_list = [\n",
    "    {\n",
    "        \"user_ID\": \"6745\",\n",
    "        \"name\": \"Jason Byrd\",\n",
    "        \"phone\": \"2105788899\",\n",
    "        \"address\": {\n",
    "            \"street\": \"35 Houston Street\",\n",
    "            \"city\": \"Dallas\",\n",
    "            \"state\": \"TX\",\n",
    "            \"zip\": \"75001\",\n",
    "        },\n",
    "        \"university\": \"Columbia University\",\n",
    "    },\n",
    "    {\n",
    "        \"user_id\": \"4897\",\n",
    "        \"name\" : \"Jesse Calbert\",\n",
    "        \"phone\" : \"5123456789\", \n",
    "        \"address\": {\n",
    "            \"street\": \"313 Broadway Ave\",\n",
    "            \"city\": \"Austin\",\n",
    "            \"state\": \"TX\",\n",
    "            \"zip\": \"73301\",\n",
    "        },\n",
    "        \"university\": \"University of Texas\",\n",
    "    },\n",
    "    {\n",
    "        \"user_id\": \"4134\",\n",
    "        \"name\": \"Earl Sosa\",\n",
    "        \"phone\": \"2128796533\", \n",
    "        \"address\": {\n",
    "            \"street\": \"212 L Avenue\",\n",
    "            \"city\": \"Fairfax\",\n",
    "            \"state\": \"VA\",\n",
    "            \"zip\": \"22030\",\n",
    "        },\n",
    "        \n",
    "         \"university\": \"Harvard University\",\n",
    "    },\n",
    "    {\n",
    "        \"user_id\": \"9867\",\n",
    "        \"name\": \"Emily Green\",\n",
    "        \"phone\": \"2015467823\",\n",
    "        \"address\": {\n",
    "            \"street\": \"234 Lincoln Ave\",\n",
    "            \"city\": \"Boston\",\n",
    "            \"state\": \"MA\",\n",
    "            \"zip\": \"02101\",\n",
    "        },\n",
    "        \n",
    "        \"university\": \"Columbia University\",\n",
    "    },\n",
    "    {\n",
    "        \"user_id\": \"2376\",\n",
    "        \"name\": \"Martin Wilson\",\n",
    "        \"phone\": \"3103766886\",\n",
    "        \"address\": {\n",
    "            \"street\": \"333 Presa Street\",\n",
    "            \"city\": \"El Paso\",\n",
    "            \"state\": \"TX\",\n",
    "            \"zip\": \"79835\",\n",
    "        },\n",
    "        \n",
    "        \"university\": \"Columbia University\",\n",
    "    }\n",
    "\n",
    "]\n",
    "\n",
    "result = users_collection.insert_many(users_list)\n",
    "result.inserted_ids"
   ]
  },
  {
   "cell_type": "code",
   "execution_count": 49,
   "metadata": {},
   "outputs": [],
   "source": [
    "books_collection = database.get_collection('books_list')"
   ]
  },
  {
   "cell_type": "code",
   "execution_count": 50,
   "metadata": {},
   "outputs": [
    {
     "data": {
      "text/plain": [
       "[ObjectId('5ea7bc80a753978fd5e5f097'),\n",
       " ObjectId('5ea7bc80a753978fd5e5f098'),\n",
       " ObjectId('5ea7bc80a753978fd5e5f099')]"
      ]
     },
     "execution_count": 50,
     "metadata": {},
     "output_type": "execute_result"
    }
   ],
   "source": [
    "books = [\n",
    "    {\n",
    "        \"book_id\": \"123456789\",\n",
    "        \"title\": \"SuperBat\",\n",
    "        \"author\": \"Calvin Davis\",\n",
    "        \"date_of_pulication\": \"2010-01-01\",\n",
    "        \"pages\": \"1000\",\n",
    "        \"publisher\": \"OxfordPress\",\n",
    "        \"translator\": \"None\",\n",
    "        \"topic\": \"fiction\",\n",
    "    },\n",
    "    {\n",
    "        \"book_id\": \"234567891\",\n",
    "        \"title\": \"Practical Python\",\n",
    "        \"author\": \"Catherine Johnson\",\n",
    "        \"date_of_pulication\": \"2011-05-12\",\n",
    "        \"pages\": \"2304\",\n",
    "        \"publisher\": \"ColumbiaPress\",\n",
    "        \"translator\": \"None\",\n",
    "        \"topic\": \"Software Engineering\",\n",
    "    },\n",
    "    {\n",
    "        \"book_id\": \"345678912\", \n",
    "        \"title\": \"Practical Java\",\n",
    "        \"author\": \"Michael Xu\",\n",
    "        \"date_of_pulication\": \"2012-08-01\",\n",
    "        \"pages\": \"334\",\n",
    "        \"publisher\": \"OxfordPress\",\n",
    "        \"translator\": \"None\",\n",
    "        \"topic\": \"Machine Learning\",\n",
    "    }\n",
    "]\n",
    "\n",
    "result2 = books_collection.insert_many(books)\n",
    "result2.inserted_ids"
   ]
  },
  {
   "cell_type": "code",
   "execution_count": 51,
   "metadata": {},
   "outputs": [],
   "source": [
    "checkedout_collection = database.get_collection(\"checkedout\")"
   ]
  },
  {
   "cell_type": "code",
   "execution_count": 52,
   "metadata": {},
   "outputs": [],
   "source": [
    "from datetime import datetime"
   ]
  },
  {
   "cell_type": "code",
   "execution_count": 53,
   "metadata": {},
   "outputs": [
    {
     "data": {
      "text/plain": [
       "[ObjectId('5ea7bc82a753978fd5e5f09a'),\n",
       " ObjectId('5ea7bc82a753978fd5e5f09b'),\n",
       " ObjectId('5ea7bc82a753978fd5e5f09c'),\n",
       " ObjectId('5ea7bc82a753978fd5e5f09d'),\n",
       " ObjectId('5ea7bc82a753978fd5e5f09e')]"
      ]
     },
     "execution_count": 53,
     "metadata": {},
     "output_type": "execute_result"
    }
   ],
   "source": [
    "checkedout_list = [\n",
    "    {\n",
    "        \"book_id\": \"23456789\",\n",
    "        \"title\": \"SuperBat\",\n",
    "        \"topic\": \"fiction\",\n",
    "        \"user_id\": \"376\",\n",
    "        \"name\": \"Martin Wilson\",\n",
    "        \"checkout_date\": datetime.strptime(\"2020-01-10\",\"%Y-%m-%d\"),\n",
    "        \"university\": \"Columbia University\",\n",
    "        \"comments\": {\n",
    "            \"comment1\": \"Book was great\",\n",
    "            \"comment2\": \"Easy to Read\",\n",
    "            \"comment3\": \"Read for Sequel\",\n",
    "        },\n",
    "    },\n",
    "    {\n",
    "        \"book_id\": \"345678912\",\n",
    "        \"title\": \"Practical Java\",\n",
    "        \"topic\": \"Machine Learning\",\n",
    "        \"user_id\": \"6745\",\n",
    "        \"name\": \"Jason Byrd\",\n",
    "        \"checkout_date\": datetime.strptime(\"2018-02-12\",\"%Y-%m-%d\"),\n",
    "        \"university\": \"Columbia University\",\n",
    "        \"comments\": {\n",
    "            \"comment1\": \"Book was very helpful\",\n",
    "            \"comment2\": \"Great Examples\",\n",
    "            \"comment3\": \"Easy to understand maths\",\n",
    "        },\n",
    "    },\n",
    "    {\n",
    "        \"book_id\": \"345678912\",\n",
    "        \"title\": \"Practical Java\",\n",
    "        \"topic\": \"Machine Learning\",\n",
    "        \"user_id\": \"9876\",\n",
    "        \"name\": \"Emily Green\",\n",
    "        \"checkout_date\": datetime.strptime(\"2020-02-12\", \"%Y-%m-%d\"),\n",
    "        \"university\": \"Columbia University\",\n",
    "        \"comments\": {\n",
    "            \"comment1\": \"Very hard to follow for a novice\",\n",
    "            \"comment2\": \"Need more examples\",\n",
    "            \"comment3\": \"Would like more pictorals\",\n",
    "        },\n",
    "    },\n",
    "    {\n",
    "        \"book_id\": \"234567891\",\n",
    "        \"title\": \"Practical Python\",\n",
    "        \"topic\": \"Software Engineering\",\n",
    "        \"user_id\": \"4134\",\n",
    "        \"name\": \"Earl Sosa\",\n",
    "        \"checkout_date\": datetime.strptime(\"2020-03-20\", \"%Y-%m-%d\"),\n",
    "        \"university\": \"Harvard University\",\n",
    "        \"comments\": {\n",
    "            \"comment1\": \"Great practical examples\",\n",
    "            \"comment2\": \"Highly Recommend\",\n",
    "            \"comment3\": \"Easy to Understand\",\n",
    "        },\n",
    "    },\n",
    "    {\n",
    "        \"book_id\": \"123456789\",\n",
    "        \"title\": \"SuperBat\",\n",
    "        \"topic\": \"fiction\",\n",
    "        \"user_id\": \"4897\",\n",
    "        \"name\": \"Jesse Calbert\",\n",
    "        \"checkout_date\": datetime.strptime(\"2020-02-02\", \"%Y-%m-%d\"),\n",
    "        \"university\": \"University of Texas\",\n",
    "        \"comments\": {\n",
    "            \"comment1\": \"Lovely read that keeps you interested\",\n",
    "            \"comment2\": \"Very interesting characters\",\n",
    "            \"comment3\": \"Complex plot keeps you wanting more\",\n",
    "        },\n",
    "    }\n",
    "]\n",
    "    \n",
    "result3 = checkedout_collection.insert_many(checkedout_list)\n",
    "result3.inserted_ids"
   ]
  },
  {
   "cell_type": "code",
   "execution_count": 54,
   "metadata": {},
   "outputs": [
    {
     "name": "stdout",
     "output_type": "stream",
     "text": [
      "{'_id': ObjectId('5ea7bc82a753978fd5e5f09a'), 'title': 'SuperBat'}\n",
      "{'_id': ObjectId('5ea7bc82a753978fd5e5f09c'), 'title': 'Practical Java'}\n",
      "{'_id': ObjectId('5ea7bc82a753978fd5e5f09d'), 'title': 'Practical Python'}\n",
      "{'_id': ObjectId('5ea7bc82a753978fd5e5f09e'), 'title': 'SuperBat'}\n"
     ]
    }
   ],
   "source": [
    "#1. Which books have been checked out since such and such date?\n",
    "\n",
    "for title in checkedout_collection.find({\"checkout_date\": {\"$gt\": datetime.strptime(\"2018-03-01\",\"%Y-%m-%d\")}},\n",
    "{\"title\": \" \"}):\n",
    "    print(title)"
   ]
  },
  {
   "cell_type": "code",
   "execution_count": 55,
   "metadata": {},
   "outputs": [
    {
     "name": "stdout",
     "output_type": "stream",
     "text": [
      "{'_id': ObjectId('5ea7bc82a753978fd5e5f09a'), 'name': 'Martin Wilson'}\n",
      "{'_id': ObjectId('5ea7bc82a753978fd5e5f09e'), 'name': 'Jesse Calbert'}\n"
     ]
    }
   ],
   "source": [
    "#2. Which users have checked out such and such book? Provides the Name of Users who have checked out SuperBat\n",
    "\n",
    "for name in checkedout_collection.find({\"title\": \"SuperBat\"}, {\"name\": \" \"}):\n",
    "    print(name)"
   ]
  },
  {
   "cell_type": "code",
   "execution_count": 56,
   "metadata": {},
   "outputs": [
    {
     "name": "stdout",
     "output_type": "stream",
     "text": [
      "1\n"
     ]
    }
   ],
   "source": [
    "#3. How many books does the library have on such and such topic?\n",
    "\n",
    "ct_books = books_collection.find({\"topic\": \"Software Engineering\"}).count()\n",
    "print(ct_books)"
   ]
  },
  {
   "cell_type": "code",
   "execution_count": 57,
   "metadata": {},
   "outputs": [
    {
     "name": "stdout",
     "output_type": "stream",
     "text": [
      "{'_id': ObjectId('5ea7bc82a753978fd5e5f09b'), 'book_id': '345678912', 'title': 'Practical Java', 'topic': 'Machine Learning', 'user_id': '6745', 'name': 'Jason Byrd', 'checkout_date': datetime.datetime(2018, 2, 12, 0, 0), 'university': 'Columbia University', 'comments': {'comment1': 'Book was very helpful', 'comment2': 'Great Examples', 'comment3': 'Easy to understand maths'}}\n",
      "{'_id': ObjectId('5ea7bc82a753978fd5e5f09c'), 'book_id': '345678912', 'title': 'Practical Java', 'topic': 'Machine Learning', 'user_id': '9876', 'name': 'Emily Green', 'checkout_date': datetime.datetime(2020, 2, 12, 0, 0), 'university': 'Columbia University', 'comments': {'comment1': 'Very hard to follow for a novice', 'comment2': 'Need more examples', 'comment3': 'Would like more pictorals'}}\n"
     ]
    }
   ],
   "source": [
    "#4a. Which users from Columbia University have checked out books on Machine Learning between this date and that date?\n",
    "#This code Provides ALL user data as to Users who have checked out books on ML from CU.  Some clients may want this\n",
    "#additional information.   \n",
    "for name in checkedout_collection.find({\"topic\": \"Machine Learning\", \"university\": \"Columbia University\", \"checkout_date\": {\"$gt\": datetime.strptime(\"2018-01-01\",'%Y-%m-%d'), \"$lt\": datetime.strptime(\"2020-04-01\", \"%Y-%m-%d\")}}):\n",
    "    print(name)\n",
    "    "
   ]
  },
  {
   "cell_type": "code",
   "execution_count": 58,
   "metadata": {},
   "outputs": [
    {
     "name": "stdout",
     "output_type": "stream",
     "text": [
      "{'_id': ObjectId('5ea7bc82a753978fd5e5f09b'), 'name': 'Jason Byrd'}\n",
      "{'_id': ObjectId('5ea7bc82a753978fd5e5f09c'), 'name': 'Emily Green'}\n"
     ]
    }
   ],
   "source": [
    "#4b. This Code limits the answer to simply the USER name who checked out a book on ML from CU.  Some clients may want \n",
    "#the simplified version. \n",
    "\n",
    "for name in checkedout_collection.find({\"topic\": \"Machine Learning\", \"university\": \"Columbia University\", \"checkout_date\": {\"$gt\": datetime.strptime(\"2018-01-01\",'%Y-%m-%d'), \"$lt\": datetime.strptime(\"2020-04-01\", \"%Y-%m-%d\")}}, {\"name\": \" \"}):\n",
    "    print(name)\n",
    "    "
   ]
  },
  {
   "cell_type": "code",
   "execution_count": 59,
   "metadata": {},
   "outputs": [
    {
     "name": "stdout",
     "output_type": "stream",
     "text": [
      "{'_id': ObjectId('5ea7bc82a753978fd5e5f09e'), 'book_id': '123456789', 'title': 'SuperBat', 'topic': 'fiction', 'user_id': '4897', 'name': 'Jesse Calbert', 'checkout_date': datetime.datetime(2020, 2, 2, 0, 0), 'university': 'University of Texas', 'comments': {'comment1': 'Lovely read that keeps you interested', 'comment2': 'Very interesting characters', 'comment3': 'Complex plot keeps you wanting more'}}\n",
      "{'_id': ObjectId('5ea7bc82a753978fd5e5f09a'), 'book_id': '23456789', 'title': 'SuperBat', 'topic': 'fiction', 'user_id': '376', 'name': 'Martin Wilson', 'checkout_date': datetime.datetime(2020, 1, 10, 0, 0), 'university': 'Columbia University', 'comments': {'comment1': 'Book was great', 'comment2': 'Easy to Read', 'comment3': 'Read for Sequel'}}\n"
     ]
    }
   ],
   "source": [
    "#5a. What comments have been made by any User about such and such book between such and such dates, ordered \n",
    "#from the most recent to the least recent? ASCENDING ORDER \n",
    "\n",
    "#This Code provides ALL data in ASCENDING ORDER as to comments made by any user who checked out SuperBat; \n",
    "#to include checkout date which could be useful.   Many clients would prefer this data output as it is more\n",
    "#specific.  \n",
    "\n",
    "for comments in checkedout_collection.find({\"$query\": {\"title\": \"SuperBat\"}, \"$orderby\": { \"checkout_date\" : -1}}):\n",
    "    print(comments)"
   ]
  },
  {
   "cell_type": "code",
   "execution_count": 60,
   "metadata": {},
   "outputs": [
    {
     "name": "stdout",
     "output_type": "stream",
     "text": [
      "{'_id': ObjectId('5ea7bc82a753978fd5e5f09e'), 'comments': {'comment1': 'Lovely read that keeps you interested', 'comment2': 'Very interesting characters', 'comment3': 'Complex plot keeps you wanting more'}}\n",
      "{'_id': ObjectId('5ea7bc82a753978fd5e5f09a'), 'comments': {'comment1': 'Book was great', 'comment2': 'Easy to Read', 'comment3': 'Read for Sequel'}}\n"
     ]
    }
   ],
   "source": [
    "#5b. What comments have been made by any User about such and such book between such and such dates, ordered \n",
    "#from the most recent to the least recent? ASCENDING ORDER \n",
    "\n",
    "#This Code is more specific and limits the answer simply to the Comments about SuperBat by any user \n",
    "#in Ascending Order\n",
    "\n",
    "for comments in checkedout_collection.find({\"$query\": {\"title\": \"SuperBat\"}, \"$orderby\": { \"checkout_date\" : -1}}, {\"comments\": \" \"}):\n",
    "    print(comments)"
   ]
  },
  {
   "cell_type": "code",
   "execution_count": 61,
   "metadata": {},
   "outputs": [
    {
     "name": "stdout",
     "output_type": "stream",
     "text": [
      "{'_id': ObjectId('5ea7bc82a753978fd5e5f09b'), 'comments': {'comment1': 'Book was very helpful', 'comment2': 'Great Examples', 'comment3': 'Easy to understand maths'}}\n"
     ]
    }
   ],
   "source": [
    "#6. For a given user show their comments as to a specific book--first\n",
    "for name in checkedout_collection.find({\"name\": \"Jason Byrd\", \"title\": \"Practical Java\"},\n",
    "{\"comments\": \" \"}):\n",
    "    print(name)"
   ]
  },
  {
   "cell_type": "code",
   "execution_count": null,
   "metadata": {},
   "outputs": [],
   "source": [
    "#END of Project 2"
   ]
  }
 ],
 "metadata": {
  "kernelspec": {
   "display_name": "Python 3",
   "language": "python",
   "name": "python3"
  },
  "language_info": {
   "codemirror_mode": {
    "name": "ipython",
    "version": 3
   },
   "file_extension": ".py",
   "mimetype": "text/x-python",
   "name": "python",
   "nbconvert_exporter": "python",
   "pygments_lexer": "ipython3",
   "version": "3.7.4"
  }
 },
 "nbformat": 4,
 "nbformat_minor": 2
}
